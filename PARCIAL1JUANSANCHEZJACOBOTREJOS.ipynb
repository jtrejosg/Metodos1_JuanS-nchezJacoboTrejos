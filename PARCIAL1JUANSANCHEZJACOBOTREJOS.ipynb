{
  "nbformat": 4,
  "nbformat_minor": 0,
  "metadata": {
    "colab": {
      "provenance": []
    },
    "kernelspec": {
      "name": "python3",
      "display_name": "Python 3"
    },
    "language_info": {
      "name": "python"
    }
  },
  "cells": [
    {
      "cell_type": "code",
      "execution_count": 39,
      "metadata": {
        "colab": {
          "base_uri": "https://localhost:8080/",
          "height": 458
        },
        "id": "589xt5Fo5-Jq",
        "outputId": "476e7538-acb4-41b5-bd5f-472e5229d1a2"
      },
      "outputs": [
        {
          "output_type": "stream",
          "name": "stderr",
          "text": [
            "<ipython-input-39-360367b1c005>:32: RuntimeWarning: divide by zero encountered in double_scalars\n",
            "  xn1 = xn - df(f,xn) /dosdf(f, xn)\n",
            "<ipython-input-39-360367b1c005>:34: RuntimeWarning: divide by zero encountered in double_scalars\n",
            "  error = np.abs(df(f,xn) /dosdf(f, xn))\n",
            "<ipython-input-39-360367b1c005>:18: RuntimeWarning: invalid value encountered in double_scalars\n",
            "  return (f(x+h)-f(x-h))/(2*h)\n",
            "<ipython-input-39-360367b1c005>:21: RuntimeWarning: invalid value encountered in double_scalars\n",
            "  return (f(x+h)- 2*f(x) + f(x-h))/(h**2)\n"
          ]
        },
        {
          "output_type": "stream",
          "name": "stdout",
          "text": [
            "0.31690576 7.349795676886238\n",
            "1.0281946848372958 2.442026437189683\n",
            "0.7518796983375419 0.7518796992481203\n"
          ]
        },
        {
          "output_type": "display_data",
          "data": {
            "text/plain": [
              "<Figure size 432x288 with 1 Axes>"
            ],
            "image/png": "[encoded data removed]"
          },
          "metadata": {
            "needs_background": "light"
          }
        }
      ],
      "source": [
        "# PARCIAL 1 JUAN SEBASTIÁN SÁNCHEZ Y JACOBO TREJOS\n",
        "\n",
        "import numpy as np\n",
        "import matplotlib.pyplot as plt\n",
        "import sympy as sym\n",
        "\n",
        "# MINIMIZACIÓN\n",
        "\n",
        "n0 = 1\n",
        "n1 = 1.33\n",
        "R = np.array([2,-2])\n",
        "T = np.array([-3,2])\n",
        "h = 1e-5\n",
        "precision=1e-6\n",
        "\n",
        "def Function(x):\n",
        "  return (n0*np.sqrt((x - T[0])**2 + T[1]**2)) + (n1*np.sqrt((x - R[0])**2 + R[1]**2))\n",
        "\n",
        "def FirstDerivative(f,x):\n",
        "  return (f(x+h)-f(x-h))/(2*h)\n",
        "\n",
        "def SecondDerivative(f,x):\n",
        "  return (f(x+h)- 2*f(x) + f(x-h))/(h**2)\n",
        "\n",
        "def GetNewtonRaphson(f,df, dosdf, xn,itmax = 100):\n",
        "    \n",
        "    error = 1\n",
        "    it = 0\n",
        "    \n",
        "    while error > precision and it <= itmax:\n",
        "        \n",
        "        try:\n",
        "            \n",
        "            xn1 = xn - df(f,xn) /dosdf(f, xn)\n",
        "            \n",
        "            error = np.abs(df(f,xn) /dosdf(f, xn))\n",
        "            \n",
        "            #print(error)\n",
        "            \n",
        "        except ZeroDivisionError:\n",
        "            \n",
        "            print('Division por cero')\n",
        "            \n",
        "        it += 1\n",
        "        xn = xn1\n",
        "    \n",
        "    if it == itmax:\n",
        "        False\n",
        "    else:\n",
        "        return xn\n",
        "\n",
        "def GetAllRoots(x,tolerancia=8):\n",
        "    \n",
        "    Roots = np.array([])\n",
        "    \n",
        "    for i in x:\n",
        "        \n",
        "        root = GetNewtonRaphson(Function, FirstDerivative, SecondDerivative, i)\n",
        "        \n",
        "        if root != False:\n",
        "            \n",
        "            croot = np.round(root, tolerancia)\n",
        "            \n",
        "            if croot not in Roots:\n",
        "                Roots = np.append(Roots,croot)\n",
        "                \n",
        "    Roots.sort()\n",
        "        \n",
        "    return Roots\n",
        "   \n",
        "x = np.linspace(-10,10,100)\n",
        "y = Function(x)\n",
        "\n",
        "plt.plot(x,y)\n",
        "plt.axhline(y=0,color='r')\n",
        "\n",
        "roots = GetAllRoots(x)\n",
        "\n",
        "def minimos(roots,f, h=1e-5):\n",
        "\n",
        "  minimos = np.array([])\n",
        "\n",
        "  for root in roots:\n",
        "\n",
        "    if f(root-h) > f(root) and f(root+h) > f(root):\n",
        "      minimos = np.append(minimos,root)\n",
        "\n",
        "  return min(minimos)\n",
        "\n",
        "x = np.linspace(0,18,100)\n",
        "Roots = GetAllRoots(x)\n",
        "minimo = minimos(Roots,Function)\n",
        "print(minimo, Function(minimo))\n",
        "plt.axhline(y=Function(minimo), color='g')\n",
        "\n",
        "# CÁLCULO DE ÁNGULOS\n",
        "\n",
        "opuesto1 = (abs(T[0]) + minimo)\n",
        "hipotenusa1 = np.sqrt(T[1]**2 + opuesto1**2)\n",
        "alpha0 = np.arcsin(opuesto1 / hipotenusa1)\n",
        "\n",
        "opuesto2 = R[1]\n",
        "adyacente = R[0] - minimo\n",
        "hipotenusa2 = np.sqrt(opuesto2**2 + adyacente**2 )\n",
        "alpha1 = np.arcsin(1) - np.arcsin(opuesto2 / hipotenusa2)\n",
        "\n",
        "# CONFIRMACIÓN DE LA LEY DE SNELL\n",
        "\n",
        "print(alpha0, alpha1)\n",
        "print(np.sin(alpha1)/np.sin(alpha0), n0/n1)\n",
        "\n",
        "\n",
        "\n",
        "\n"
      ]
    }
  ]
}