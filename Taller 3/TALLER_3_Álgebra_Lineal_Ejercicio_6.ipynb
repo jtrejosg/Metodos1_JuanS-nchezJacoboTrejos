{
  "nbformat": 4,
  "nbformat_minor": 0,
  "metadata": {
    "colab": {
      "provenance": []
    },
    "kernelspec": {
      "name": "python3",
      "display_name": "Python 3"
    },
    "language_info": {
      "name": "python"
    }
  },
  "cells": [
    {
      "cell_type": "code",
      "execution_count": 53,
      "metadata": {
        "id": "VWHHNl6F5wkj",
        "colab": {
          "base_uri": "https://localhost:8080/"
        },
        "outputId": "22526714-dae3-4e21-bde9-9b3aef5c7b96"
      },
      "outputs": [
        {
          "output_type": "stream",
          "name": "stdout",
          "text": [
            "(array([1., 1., 1.]), 24)\n",
            "(array([1., 1., 1.]), 36)\n",
            "(array([1., 1., 1.]), 57)\n",
            "(array([1., 1., 1.]), 113)\n"
          ]
        },
        {
          "output_type": "stream",
          "name": "stderr",
          "text": [
            "<ipython-input-53-0e1e88395edf>:17: RuntimeWarning: overflow encountered in multiply\n",
            "  sigma += A[i][j] * x[j]\n",
            "<ipython-input-53-0e1e88395edf>:19: RuntimeWarning: overflow encountered in subtract\n",
            "  error = np.linalg.norm(x - x_old)\n",
            "<ipython-input-53-0e1e88395edf>:17: RuntimeWarning: invalid value encountered in double_scalars\n",
            "  sigma += A[i][j] * x[j]\n"
          ]
        },
        {
          "output_type": "stream",
          "name": "stdout",
          "text": [
            "el valor de omega que minimiza el número de iteraciones necesarias es 1.01\n"
          ]
        }
      ],
      "source": [
        "import numpy as np\n",
        "import random\n",
        "\n",
        "# IMPLEMENTACIÓN DE SOR\n",
        "def sor(A, b, omega, x0, itmax=1000, tolerancia=1e-9):\n",
        "    n = len(b)\n",
        "    x = x0.copy()\n",
        "    iter_count = 0\n",
        "    error = tolerancia + 1\n",
        "    \n",
        "    while error > tolerancia and iter_count < itmax:\n",
        "        x_old = x.copy()\n",
        "        for i in range(n):\n",
        "            sigma = 0\n",
        "            for j in range(n):\n",
        "                if j != i:\n",
        "                    sigma += A[i][j] * x[j]\n",
        "            x[i] = (1 - omega) * x_old[i] + (omega / A[i][i]) * (b[i] - sigma)\n",
        "        error = np.linalg.norm(x - x_old)\n",
        "        iter_count += 1\n",
        "    \n",
        "    return x, iter_count\n",
        "\n",
        "# DEFINIMOS LOS PÁRAMETROS DE SOR\n",
        "A = np.array([[3, -1, -1],[-1, 3, 1],[2, 1, 4]])\n",
        "b = np.array([1, 3, 7])\n",
        "x0 = np.array([0.,0.,0.])\n",
        "\n",
        "# COMPROBACIÓN DE QUE EL MÉTODO FUNCIONA PARA ALGUNOS OMEGAS CUALESQUIERA\n",
        "\n",
        "print(sor(A,b,1.08,x0))\n",
        "print(sor(A,b,1.16,x0))\n",
        "print(sor(A,b,1.24,x0))\n",
        "print(sor(A,b,1.32,x0))\n",
        "\n",
        "# ENCONTRAR EL VALOR DE OMEGA QUE MINIMIZA EL NUMERO DE ITERACIONES NECESARIAS\n",
        "\n",
        "omegas = np.linspace(1.01, 1.99, 100)\n",
        "iteraciones = np.array([])\n",
        "\n",
        "for omega in omegas:\n",
        "\n",
        "    x, num_iter = sor(A, b, omega,x0)\n",
        "\n",
        "    # Almacenar el número de iteraciones necesarias\n",
        "    iteraciones= np.append(iteraciones,num_iter)\n",
        "\n",
        "indice_min_iter = np.argmin(iteraciones)\n",
        "omega_min_iter = omegas[indice_min_iter]\n",
        "print(\"El valor de omega que minimiza el número de iteraciones necesarias es \" + str(omega_min_iter))\n",
        "\n",
        "\n",
        "\n",
        "\n"
      ]
    }
  ]
}