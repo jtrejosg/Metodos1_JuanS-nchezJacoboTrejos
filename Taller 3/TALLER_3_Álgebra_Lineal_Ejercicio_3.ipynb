{
  "nbformat": 4,
  "nbformat_minor": 0,
  "metadata": {
    "colab": {
      "provenance": []
    },
    "kernelspec": {
      "name": "python3",
      "display_name": "Python 3"
    },
    "language_info": {
      "name": "python"
    }
  },
  "cells": [
    {
      "cell_type": "code",
      "execution_count": 4,
      "metadata": {
        "colab": {
          "base_uri": "https://localhost:8080/"
        },
        "id": "tnzR9cck2I5e",
        "outputId": "6ed5c64e-9dd7-466e-e4ca-e782aaf9fb4a"
      },
      "outputs": [
        {
          "output_type": "execute_result",
          "data": {
            "text/plain": [
              "array([[ 4., -2.,  1.],\n",
              "       [20., -7., 12.],\n",
              "       [-8., 13., 21.]])"
            ]
          },
          "metadata": {},
          "execution_count": 4
        }
      ],
      "source": [
        "# MULTIPLICACIÓN DE MATRICES\n",
        "\n",
        "import numpy as np\n",
        "\n",
        "def matrix_multiplier(matrix1, matrix2):\n",
        "\n",
        "    # Verifica si las dimensiones de las matrices son adecuadas para la multiplicación\n",
        "    if len(matrix1[0]) != len(matrix2):\n",
        "        raise ValueError(\"Las dimensiones de las matrices no son adecuadas para la multiplicación\")\n",
        "\n",
        "    # Inicializa la matriz producto con ceros\n",
        "    productmatrix = np.zeros((matrix1.shape[0], matrix2.shape[1]))\n",
        "\n",
        "    # Realiza la multiplicación de las matrices\n",
        "    for i in range(len(matrix1)):\n",
        "        for j in range(len(matrix2[0])):\n",
        "            for k in range(len(matrix2)):\n",
        "                productmatrix[i][j] += matrix1[i][k] * matrix2[k][j]\n",
        "\n",
        "    return productmatrix\n",
        "\n",
        "A = np.array([[1,0,0],[5,1,0],[-2,3,1]])\n",
        "B = np.array([[4,-2,1],[0,3,7],[0,0,2]])\n",
        "matrix_multiplier(A,B)"
      ]
    }
  ]
}