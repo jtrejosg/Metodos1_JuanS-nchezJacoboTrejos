{
  "nbformat": 4,
  "nbformat_minor": 0,
  "metadata": {
    "colab": {
      "provenance": []
    },
    "kernelspec": {
      "name": "python3",
      "display_name": "Python 3"
    },
    "language_info": {
      "name": "python"
    }
  },
  "cells": [
    {
      "cell_type": "code",
      "execution_count": 4,
      "metadata": {
        "colab": {
          "base_uri": "https://localhost:8080/"
        },
        "id": "DlMo9wj_E2xB",
        "outputId": "0074a0c8-7d9e-4101-9270-19c4a6736ec7"
      },
      "outputs": [
        {
          "output_type": "execute_result",
          "data": {
            "text/plain": [
              "(array([[ 1.,  0.,  0.],\n",
              "        [ 5.,  1.,  0.],\n",
              "        [-2.,  3.,  1.]]),\n",
              " array([[ 4, -2,  1],\n",
              "        [ 0,  3,  7],\n",
              "        [ 0,  0, -2]]))"
            ]
          },
          "metadata": {},
          "execution_count": 4
        }
      ],
      "source": [
        "import numpy as np\n",
        "\n",
        "# IMPLEMENTACIÓN DE LA DESCOMPOSICIÓN LU\n",
        "def LU_Factorization(A):\n",
        "    \n",
        "    n = A.shape[0]\n",
        "    L = np.eye(n)\n",
        "    U = A.copy()\n",
        "\n",
        "    for j in range(n):\n",
        "        for i in range(j+1, n):\n",
        "            L[i,j] = U[i,j]/U[j,j]\n",
        "            U[i,:] = U[i,:] - L[i,j]*U[j,:]\n",
        "\n",
        "    return L, U\n",
        "\n",
        "# ENSAYO\n",
        "A = np.array([[4, -2, 1], [20, -7, 12], [-8, 13, 17]])\n",
        "L, U = LU_Factorization(A)\n",
        "L,U"
      ]
    }
  ]
}