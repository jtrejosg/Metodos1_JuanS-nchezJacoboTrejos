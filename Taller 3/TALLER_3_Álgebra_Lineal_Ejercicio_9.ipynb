{
  "nbformat": 4,
  "nbformat_minor": 0,
  "metadata": {
    "colab": {
      "provenance": []
    },
    "kernelspec": {
      "name": "python3",
      "display_name": "Python 3"
    },
    "language_info": {
      "name": "python"
    }
  },
  "cells": [
    {
      "cell_type": "code",
      "execution_count": 5,
      "metadata": {
        "colab": {
          "base_uri": "https://localhost:8080/"
        },
        "id": "iu1tAfyhREcd",
        "outputId": "658c546c-0c44-40b8-d238-af78fb55d04b"
      },
      "outputs": [
        {
          "output_type": "stream",
          "name": "stdout",
          "text": [
            "(array([6.89510652, 3.39729507, 1.70759841]), array([[ 0.43170413,  0.88573564,  0.17059871],\n",
            "       [ 0.49725362, -0.07589338, -0.86427949],\n",
            "       [ 0.75257583, -0.45794385,  0.47319874]]))\n",
            "(array([6.89510652, 3.39729507, 1.70759841]), array([[ 0.43170413,  0.88573564,  0.17059871],\n",
            "       [ 0.49725362, -0.07589338, -0.86427949],\n",
            "       [ 0.75257583, -0.45794385,  0.47319874]]))\n"
          ]
        }
      ],
      "source": [
        "import numpy as np\n",
        "\n",
        "def jacobi(A, tol=1e-10, maxiter=1000):\n",
        "\n",
        "    A = np.array(A)\n",
        "    V = np.eye(A.shape[0])\n",
        "    it = 0\n",
        "    delta = tol + 1\n",
        "\n",
        "    while delta > tol and it < maxiter:\n",
        "\n",
        "        it += 1\n",
        "        i, j = np.unravel_index(np.abs(A - np.diag(np.diag(A))).argmax(), A.shape)\n",
        "\n",
        "        if A[i, i] == A[j, j]:\n",
        "            theta = np.pi / 4\n",
        "        else:\n",
        "            theta = 0.5 * np.arctan(2 * A[i, j] / (A[i, i] - A[j, j]))\n",
        "\n",
        "        R = np.eye(A.shape[0])\n",
        "        R[i, i] = np.cos(theta)\n",
        "        R[j, j] = np.cos(theta)\n",
        "        R[i, j] = -np.sin(theta)\n",
        "        R[j, i] = np.sin(theta)\n",
        "        A = R.T @ A @ R\n",
        "        V = V @ R\n",
        "        delta = np.abs(A - np.diag(np.diag(A))).max()\n",
        "\n",
        "    w = np.diag(A)\n",
        "    idx = np.argsort(w)[::-1]\n",
        "    V = V[:, idx]\n",
        "    V = np.array([V[:, i] * np.sign(V[0, i]) for i in range(V.shape[1])]).T\n",
        "    \n",
        "    return w[idx], V\n",
        "\n",
        "A = np.array([[4, 1, 1],\n",
        "              [1, 3, 2],\n",
        "              [1, 2, 5]])\n",
        "\n",
        "\n",
        "print(jacobi(A))\n",
        "print(np.linalg.eig(A))"
      ]
    }
  ]
}