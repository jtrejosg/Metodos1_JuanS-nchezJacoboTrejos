{
 "cells": [
  {
   "cell_type": "code",
   "execution_count": 1,
   "id": "c57eece9",
   "metadata": {},
   "outputs": [],
   "source": [
    "import numpy as np\n",
    "import matplotlib.pyplot as plt\n",
    "import urllib.request"
   ]
  },
  {
   "cell_type": "code",
   "execution_count": 2,
   "id": "cb00fb4c",
   "metadata": {},
   "outputs": [],
   "source": [
    "url = 'https://raw.githubusercontent.com/asegura4488/Database/main/MetodosComputacionalesReforma/Sigmoid.csv'"
   ]
  },
  {
   "cell_type": "code",
   "execution_count": 3,
   "id": "135df31e",
   "metadata": {},
   "outputs": [],
   "source": [
    "filename = 'Data/Sigmoid.txt'"
   ]
  },
  {
   "cell_type": "raw",
   "id": "88da11fd",
   "metadata": {},
   "source": [
    "urllib.request.urlretrieve(url, filename)"
   ]
  },
  {
   "cell_type": "code",
   "execution_count": 4,
   "id": "7cc44cdb",
   "metadata": {},
   "outputs": [],
   "source": [
    "data = np.loadtxt(filename, delimiter = ',', skiprows=1)\n",
    "x = data[:,0]\n",
    "y = data[:,1]"
   ]
  },
  {
   "cell_type": "code",
   "execution_count": 5,
   "id": "b78cad4b",
   "metadata": {},
   "outputs": [],
   "source": [
    "def Model(x, theta):\n",
    "    return (theta[0])/(theta[1]+np.exp(-theta[2]*x))"
   ]
  },
  {
   "cell_type": "code",
   "execution_count": 6,
   "id": "a4356345",
   "metadata": {},
   "outputs": [],
   "source": [
    "def Costo(theta):\n",
    "    costo = 0\n",
    "    for i in range(len(x)):\n",
    "        costo += (y[i]-Model(x[i],theta))**2\n",
    "    return costo"
   ]
  },
  {
   "cell_type": "code",
   "execution_count": 7,
   "id": "3b4cd4ef",
   "metadata": {},
   "outputs": [
    {
     "data": {
      "text/plain": [
       "array([-110.01069727,  103.89842074,   -5.93182878])"
      ]
     },
     "execution_count": 7,
     "metadata": {},
     "output_type": "execute_result"
    }
   ],
   "source": [
    "def Derivada(t,h = 0.01):\n",
    "    D = np.zeros(3)\n",
    "    \n",
    "    D[0] = (Costo([t[0]+h,t[1],t[2]]) - Costo([t[0]-h,t[1],t[2]]))/(2*h)\n",
    "    D[1] = (Costo([t[0],t[1]+h,t[2]]) - Costo([t[0],t[1]-h,t[2]]))/(2*h)\n",
    "    D[2] = (Costo([t[0],t[1],t[2]+h]) - Costo([t[0],t[1],t[2]-h]))/(2*h)\n",
    "    return D\n",
    "Derivada([1,1,1])"
   ]
  },
  {
   "cell_type": "code",
   "execution_count": 8,
   "id": "27eb9802",
   "metadata": {},
   "outputs": [],
   "source": [
    "def DescensoGradiente(theta,gamma,itmax,error):\n",
    "    error0 = 1\n",
    "    for i in range(itmax):\n",
    "        if error0>error:\n",
    "            funcion = Derivada(theta)\n",
    "            theta = theta - gamma*funcion\n",
    "    return theta"
   ]
  },
  {
   "cell_type": "code",
   "execution_count": 9,
   "id": "54ce5fc0",
   "metadata": {},
   "outputs": [
    {
     "name": "stdout",
     "output_type": "stream",
     "text": [
      "[4.20499414 0.93140995 2.83575276]\n",
      "0.11159814982748509\n"
     ]
    }
   ],
   "source": [
    "Descenso = DescensoGradiente([1,1,1],5e-4,10000,0.01)\n",
    "costo= Costo(Descenso)\n",
    "print(Descenso)\n",
    "print(costo)"
   ]
  },
  {
   "cell_type": "code",
   "execution_count": 10,
   "id": "3905523d",
   "metadata": {},
   "outputs": [
    {
     "data": {
      "text/plain": [
       "<matplotlib.collections.PathCollection at 0x2a6164eecd0>"
      ]
     },
     "execution_count": 10,
     "metadata": {},
     "output_type": "execute_result"
    },
    {
     "data": {
      "image/png": "[encoded data removed]",
      "text/plain": [
       "<Figure size 640x480 with 1 Axes>"
      ]
     },
     "metadata": {},
     "output_type": "display_data"
    }
   ],
   "source": [
    "Z = np.linspace(min(x),max(x),1000)\n",
    "\n",
    "plt.plot(Z,Model(Z,Descenso))\n",
    "plt.scatter(x,y,color='g')"
   ]
  },
  {
   "cell_type": "code",
   "execution_count": null,
   "id": "b028ebd0",
   "metadata": {},
   "outputs": [],
   "source": []
  }
 ],
 "metadata": {
  "kernelspec": {
   "display_name": "Python 3 (ipykernel)",
   "language": "python",
   "name": "python3"
  },
  "language_info": {
   "codemirror_mode": {
    "name": "ipython",
    "version": 3
   },
   "file_extension": ".py",
   "mimetype": "text/x-python",
   "name": "python",
   "nbconvert_exporter": "python",
   "pygments_lexer": "ipython3",
   "version": "3.9.13"
  }
 },
 "nbformat": 4,
 "nbformat_minor": 5
}
