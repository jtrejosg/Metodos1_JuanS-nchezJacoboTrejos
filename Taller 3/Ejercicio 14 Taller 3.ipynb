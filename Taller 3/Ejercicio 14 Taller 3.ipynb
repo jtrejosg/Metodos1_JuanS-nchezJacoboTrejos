{
 "cells": [
  {
   "cell_type": "code",
   "execution_count": 1,
   "id": "1ba53797",
   "metadata": {},
   "outputs": [],
   "source": [
    "import sympy as sym\n",
    "from sympy import I"
   ]
  },
  {
   "cell_type": "code",
   "execution_count": 2,
   "id": "538603b9",
   "metadata": {},
   "outputs": [],
   "source": [
    "sigmax = sym.Matrix([[0,1],[1,0]])\n",
    "sigmay = sym.Matrix([[0,-I],[I,0]])\n",
    "sigmaz = sym.Matrix([[1,0],[0,-1]])"
   ]
  },
  {
   "cell_type": "code",
   "execution_count": 3,
   "id": "891ca61f",
   "metadata": {},
   "outputs": [],
   "source": [
    "def conmutador(Matriz1,Matriz2):\n",
    "    res1 = Matriz1@Matriz2\n",
    "    res2 = Matriz2@Matriz1\n",
    "    \n",
    "    return res1-res2"
   ]
  },
  {
   "cell_type": "code",
   "execution_count": 4,
   "id": "6c9b442f",
   "metadata": {},
   "outputs": [
    {
     "data": {
      "text/latex": [
       "$\\displaystyle \\left[\\begin{matrix}2 i & 0\\\\0 & - 2 i\\end{matrix}\\right]$"
      ],
      "text/plain": [
       "Matrix([\n",
       "[2*I,    0],\n",
       "[  0, -2*I]])"
      ]
     },
     "execution_count": 4,
     "metadata": {},
     "output_type": "execute_result"
    }
   ],
   "source": [
    "#Conmutador de sigmax y sigmay\n",
    "conmutador(sigmax,sigmay)"
   ]
  },
  {
   "cell_type": "code",
   "execution_count": 5,
   "id": "ed5676dd",
   "metadata": {},
   "outputs": [
    {
     "data": {
      "text/latex": [
       "$\\displaystyle \\left[\\begin{matrix}2 i & 0\\\\0 & - 2 i\\end{matrix}\\right]$"
      ],
      "text/plain": [
       "Matrix([\n",
       "[2*I,    0],\n",
       "[  0, -2*I]])"
      ]
     },
     "execution_count": 5,
     "metadata": {},
     "output_type": "execute_result"
    }
   ],
   "source": [
    "#Con algebra de Lie para (1,2,3)\n",
    "2*I*sigmaz"
   ]
  },
  {
   "cell_type": "code",
   "execution_count": 6,
   "id": "bdfdcdc9",
   "metadata": {},
   "outputs": [
    {
     "data": {
      "text/latex": [
       "$\\displaystyle \\left[\\begin{matrix}0 & 2 i\\\\2 i & 0\\end{matrix}\\right]$"
      ],
      "text/plain": [
       "Matrix([\n",
       "[  0, 2*I],\n",
       "[2*I,   0]])"
      ]
     },
     "execution_count": 6,
     "metadata": {},
     "output_type": "execute_result"
    }
   ],
   "source": [
    "#Conmutador de sigmay y sigmaz\n",
    "conmutador(sigmay,sigmaz)"
   ]
  },
  {
   "cell_type": "code",
   "execution_count": 7,
   "id": "74a35586",
   "metadata": {},
   "outputs": [
    {
     "data": {
      "text/latex": [
       "$\\displaystyle \\left[\\begin{matrix}0 & 2 i\\\\2 i & 0\\end{matrix}\\right]$"
      ],
      "text/plain": [
       "Matrix([\n",
       "[  0, 2*I],\n",
       "[2*I,   0]])"
      ]
     },
     "execution_count": 7,
     "metadata": {},
     "output_type": "execute_result"
    }
   ],
   "source": [
    "#Con algebra de Lie para (2,3,1)\n",
    "2*I*sigmax"
   ]
  },
  {
   "cell_type": "code",
   "execution_count": 12,
   "id": "ad47c22c",
   "metadata": {},
   "outputs": [
    {
     "data": {
      "text/latex": [
       "$\\displaystyle \\left[\\begin{matrix}0 & 2\\\\-2 & 0\\end{matrix}\\right]$"
      ],
      "text/plain": [
       "Matrix([\n",
       "[ 0, 2],\n",
       "[-2, 0]])"
      ]
     },
     "execution_count": 12,
     "metadata": {},
     "output_type": "execute_result"
    }
   ],
   "source": [
    "#Conmutador de sigmaz y sigmax\n",
    "conmutador(sigmaz,sigmax)"
   ]
  },
  {
   "cell_type": "code",
   "execution_count": 14,
   "id": "b97f0361",
   "metadata": {},
   "outputs": [
    {
     "data": {
      "text/latex": [
       "$\\displaystyle \\left[\\begin{matrix}0 & 2\\\\-2 & 0\\end{matrix}\\right]$"
      ],
      "text/plain": [
       "Matrix([\n",
       "[ 0, 2],\n",
       "[-2, 0]])"
      ]
     },
     "execution_count": 14,
     "metadata": {},
     "output_type": "execute_result"
    }
   ],
   "source": [
    "#Con algebra de Lie para (3,1,2)\n",
    "2*I*sigmay"
   ]
  },
  {
   "cell_type": "code",
   "execution_count": 8,
   "id": "0f0bc52c",
   "metadata": {},
   "outputs": [
    {
     "data": {
      "text/latex": [
       "$\\displaystyle \\left[\\begin{matrix}- 2 i & 0\\\\0 & 2 i\\end{matrix}\\right]$"
      ],
      "text/plain": [
       "Matrix([\n",
       "[-2*I,   0],\n",
       "[   0, 2*I]])"
      ]
     },
     "execution_count": 8,
     "metadata": {},
     "output_type": "execute_result"
    }
   ],
   "source": [
    "#Conmutador de sigmay y sigmax\n",
    "conmutador(sigmay,sigmax)"
   ]
  },
  {
   "cell_type": "code",
   "execution_count": 9,
   "id": "f37e96c5",
   "metadata": {},
   "outputs": [
    {
     "data": {
      "text/latex": [
       "$\\displaystyle \\left[\\begin{matrix}- 2 i & 0\\\\0 & 2 i\\end{matrix}\\right]$"
      ],
      "text/plain": [
       "Matrix([\n",
       "[-2*I,   0],\n",
       "[   0, 2*I]])"
      ]
     },
     "execution_count": 9,
     "metadata": {},
     "output_type": "execute_result"
    }
   ],
   "source": [
    "#Con algebra de Lie para (2,1,3)\n",
    "-2*I*sigmaz"
   ]
  },
  {
   "cell_type": "code",
   "execution_count": 10,
   "id": "d797b54e",
   "metadata": {},
   "outputs": [
    {
     "data": {
      "text/latex": [
       "$\\displaystyle \\left[\\begin{matrix}0 & -2\\\\2 & 0\\end{matrix}\\right]$"
      ],
      "text/plain": [
       "Matrix([\n",
       "[0, -2],\n",
       "[2,  0]])"
      ]
     },
     "execution_count": 10,
     "metadata": {},
     "output_type": "execute_result"
    }
   ],
   "source": [
    "#Conmutador de sigmax y sigmaz\n",
    "conmutador(sigmax,sigmaz)"
   ]
  },
  {
   "cell_type": "code",
   "execution_count": 11,
   "id": "2ed819e6",
   "metadata": {},
   "outputs": [
    {
     "data": {
      "text/latex": [
       "$\\displaystyle \\left[\\begin{matrix}0 & -2\\\\2 & 0\\end{matrix}\\right]$"
      ],
      "text/plain": [
       "Matrix([\n",
       "[0, -2],\n",
       "[2,  0]])"
      ]
     },
     "execution_count": 11,
     "metadata": {},
     "output_type": "execute_result"
    }
   ],
   "source": [
    "#Con algebra de Lie para (1,3,2)\n",
    "-2*I*sigmay"
   ]
  },
  {
   "cell_type": "code",
   "execution_count": 15,
   "id": "c70c75ce",
   "metadata": {},
   "outputs": [
    {
     "data": {
      "text/latex": [
       "$\\displaystyle \\left[\\begin{matrix}0 & - 2 i\\\\- 2 i & 0\\end{matrix}\\right]$"
      ],
      "text/plain": [
       "Matrix([\n",
       "[   0, -2*I],\n",
       "[-2*I,    0]])"
      ]
     },
     "execution_count": 15,
     "metadata": {},
     "output_type": "execute_result"
    }
   ],
   "source": [
    "#Conmutador de sigmaz y sigmay\n",
    "conmutador(sigmaz,sigmay)"
   ]
  },
  {
   "cell_type": "code",
   "execution_count": 16,
   "id": "9e1ddd52",
   "metadata": {},
   "outputs": [
    {
     "data": {
      "text/latex": [
       "$\\displaystyle \\left[\\begin{matrix}0 & - 2 i\\\\- 2 i & 0\\end{matrix}\\right]$"
      ],
      "text/plain": [
       "Matrix([\n",
       "[   0, -2*I],\n",
       "[-2*I,    0]])"
      ]
     },
     "execution_count": 16,
     "metadata": {},
     "output_type": "execute_result"
    }
   ],
   "source": [
    "#Con algebra de Lie para (3,2,1)\n",
    "-2*I*sigmax"
   ]
  },
  {
   "cell_type": "code",
   "execution_count": null,
   "id": "5a80f9ac",
   "metadata": {},
   "outputs": [],
   "source": []
  }
 ],
 "metadata": {
  "kernelspec": {
   "display_name": "Python 3 (ipykernel)",
   "language": "python",
   "name": "python3"
  },
  "language_info": {
   "codemirror_mode": {
    "name": "ipython",
    "version": 3
   },
   "file_extension": ".py",
   "mimetype": "text/x-python",
   "name": "python",
   "nbconvert_exporter": "python",
   "pygments_lexer": "ipython3",
   "version": "3.9.13"
  }
 },
 "nbformat": 4,
 "nbformat_minor": 5
}
