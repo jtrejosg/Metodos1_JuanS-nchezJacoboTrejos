{
  "nbformat": 4,
  "nbformat_minor": 0,
  "metadata": {
    "colab": {
      "provenance": []
    },
    "kernelspec": {
      "name": "python3",
      "display_name": "Python 3"
    },
    "language_info": {
      "name": "python"
    }
  },
  "cells": [
    {
      "cell_type": "code",
      "execution_count": 21,
      "metadata": {
        "colab": {
          "base_uri": "https://localhost:8080/"
        },
        "id": "N803dRptDSIF",
        "outputId": "5de14cc7-1361-4881-d43e-b32a637e4fba"
      },
      "outputs": [
        {
          "output_type": "stream",
          "name": "stdout",
          "text": [
            "E0: 1 |ψ0 >: [ 0.40824829 -0.40824829 -0.81649658]\n"
          ]
        }
      ],
      "source": [
        "import numpy as np\n",
        "\n",
        "def quantum_system(H, max_iter=10000, tol=1e-10):\n",
        "\n",
        "    Hinverse = np.linalg.inv(H)\n",
        "    psi = np.array([1.0, 1.0, 1.0])\n",
        "    psi /= np.linalg.norm(psi)\n",
        "    k = 0\n",
        "    lambda_prev = 0\n",
        "\n",
        "    while k < max_iter:\n",
        "        psi_next = Hinverse @ psi\n",
        "        lambda_next = np.dot(psi, psi_next)\n",
        "        if abs(lambda_next - lambda_prev) < tol:\n",
        "            break\n",
        "        psi = psi_next / np.linalg.norm(psi_next)\n",
        "        lambda_prev = lambda_next\n",
        "        k += 1\n",
        "\n",
        "    psi0 = psi / np.linalg.norm(psi)\n",
        "\n",
        "    return round(lambda_next), -psi0\n",
        "\n",
        "H = np.array([[1, 2, -1], [1, 0, 1], [4, -4, 5]])\n",
        "\n",
        "lambda0, psi0 = quantum_system(H)\n",
        "\n",
        "print(f\"E0: {lambda0}\",f\"|ψ0 >: {psi0}\")"
      ]
    }
  ]
}