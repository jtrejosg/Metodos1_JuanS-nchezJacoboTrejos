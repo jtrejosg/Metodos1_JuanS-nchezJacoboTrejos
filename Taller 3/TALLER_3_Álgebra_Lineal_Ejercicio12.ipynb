{
  "nbformat": 4,
  "nbformat_minor": 0,
  "metadata": {
    "colab": {
      "provenance": []
    },
    "kernelspec": {
      "name": "python3",
      "display_name": "Python 3"
    },
    "language_info": {
      "name": "python"
    }
  },
  "cells": [
    {
      "cell_type": "code",
      "execution_count": 14,
      "metadata": {
        "colab": {
          "base_uri": "https://localhost:8080/"
        },
        "id": "eURdMqIB3u_a",
        "outputId": "20291d92-e25e-4ad8-b6ae-46902d1349ec"
      },
      "outputs": [
        {
          "output_type": "stream",
          "name": "stdout",
          "text": [
            "[[ 15.          15.95876618  15.95876618]\n",
            " [ 23.93770524  22.5         23.94533027]\n",
            " [160.19470101 160.19470101 150.        ]]\n",
            "[[ 12.           0.74748319  -2.33644129]\n",
            " [  0.49479967  18.          -2.33644129]\n",
            " [  0.49479967   0.65602301 120.        ]]\n"
          ]
        }
      ],
      "source": [
        "import numpy as np\n",
        "\n",
        "def estimate_jacobian(f, x, h,order):\n",
        "    n = len(x)\n",
        "    jac = np.zeros((n, n))\n",
        "    \n",
        "    for i in range(n):\n",
        "\n",
        "        x_plus = np.copy(x)\n",
        "        x_plus[i] += 2 * h\n",
        "        x_minus = np.copy(x)\n",
        "        x_minus[i] -= 2 * h\n",
        "        f_plus = f(x_plus)\n",
        "        f_minus = f(x_minus)\n",
        "\n",
        "        for j in range(n):\n",
        "\n",
        "            x_plusj = np.copy(x)\n",
        "            x_plusj[j] += h\n",
        "            x_minusj = np.copy(x)\n",
        "            x_minusj[j] -= h\n",
        "            f_plusj = f(x_plusj)\n",
        "            f_minusj = f(x_minusj)\n",
        "\n",
        "            if order == 4:\n",
        "               jac[i, j] = (-f_plusj[i] + 8 * f_plus[i] - 8 * f_minus[i] + f_minusj[i]) / (12 * h)\n",
        "            \n",
        "            elif order == 2:\n",
        "              jac[i, j] = (f_plus[j] - f_minus[j]) / (2 * h)\n",
        "              \n",
        "\n",
        "    return jac\n",
        "\n",
        "def f(x):\n",
        "    f1 = 6 * x[0] - 2 * np.cos(x[1] * x[2]) - 1\n",
        "    f2 = 9 * x[1] + np.sqrt((x[0]) ** 2 + np.sin(x[2]) + 1.06) + 0.9\n",
        "    f3 = 60 * x[2] + 3 * np.exp(-x[0] * x[1]) - 10 * np.pi - 3\n",
        "    return np.array([f1, f2, f3])\n",
        "\n",
        "x = np.array([0.5, 0.5, 0.5])\n",
        "h = 0.01\n",
        "jacobian_fourth_order = estimate_jacobian(f, x, h,4)\n",
        "jacobian_second_order = estimate_jacobian(f, x, h,2)\n",
        "\n",
        "print(jacobian_fourth_order)\n",
        "print(jacobian_second_order)"
      ]
    }
  ]
}