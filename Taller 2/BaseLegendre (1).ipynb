{
 "cells": [
  {
   "cell_type": "code",
   "execution_count": 4,
   "id": "a9a6834a",
   "metadata": {},
   "outputs": [],
   "source": [
    "import sympy as sym\n",
    "import numpy as np"
   ]
  },
  {
   "cell_type": "code",
   "execution_count": 11,
   "id": "7d8e672b",
   "metadata": {},
   "outputs": [
    {
     "data": {
      "text/plain": [
       "array([3.33333333, 5.        , 0.66666667])"
      ]
     },
     "execution_count": 11,
     "metadata": {},
     "output_type": "execute_result"
    }
   ],
   "source": [
    "x = sym.symbols(\"x\")\n",
    "Base = np.array([1,x,0.5*(3*(x**2)-1)])\n",
    "Coeficientes = np.array([3,5,1])\n",
    "Matriz = np.array([[1,0,-1/2],[0,1,0],[0,0,3/2]])\n",
    "Valores = np.linalg.solve(Combinacion,Coeficientes)\n",
    "Valores"
   ]
  },
  {
   "cell_type": "code",
   "execution_count": 12,
   "id": "0442a672",
   "metadata": {},
   "outputs": [
    {
     "data": {
      "text/latex": [
       "$\\displaystyle 1.0 x^{2} + 5.0 x + 3.0$"
      ],
      "text/plain": [
       "1.0*x**2 + 5.0*x + 3.0"
      ]
     },
     "execution_count": 12,
     "metadata": {},
     "output_type": "execute_result"
    }
   ],
   "source": [
    "def Polinomio(x):\n",
    "    return Valores[0]*Base[0] + Valores[1]*Base[1] + Valores[2]*Base[2]\n",
    "\n",
    "Polinomio(x)"
   ]
  }
 ],
 "metadata": {
  "kernelspec": {
   "display_name": "Python 3 (ipykernel)",
   "language": "python",
   "name": "python3"
  },
  "language_info": {
   "codemirror_mode": {
    "name": "ipython",
    "version": 3
   },
   "file_extension": ".py",
   "mimetype": "text/x-python",
   "name": "python",
   "nbconvert_exporter": "python",
   "pygments_lexer": "ipython3",
   "version": "3.9.13"
  }
 },
 "nbformat": 4,
 "nbformat_minor": 5
}
