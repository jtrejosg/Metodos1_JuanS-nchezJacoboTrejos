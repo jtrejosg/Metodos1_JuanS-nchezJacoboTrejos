{
  "nbformat": 4,
  "nbformat_minor": 0,
  "metadata": {
    "colab": {
      "provenance": []
    },
    "kernelspec": {
      "name": "python3",
      "display_name": "Python 3"
    },
    "language_info": {
      "name": "python"
    }
  },
  "cells": [
    {
      "cell_type": "code",
      "execution_count": 24,
      "metadata": {
        "colab": {
          "base_uri": "https://localhost:8080/",
          "height": 300
        },
        "id": "cgtVdUz6JxlZ",
        "outputId": "1c6385df-56dc-40e3-df93-7f32ef9d8c2c"
      },
      "outputs": [
        {
          "output_type": "stream",
          "name": "stdout",
          "text": [
            "Looking in indexes: https://pypi.org/simple, https://us-python.pkg.dev/colab-wheels/public/simple/\n",
            "Requirement already satisfied: wget in /usr/local/lib/python3.9/dist-packages (3.2)\n"
          ]
        },
        {
          "output_type": "display_data",
          "data": {
            "text/plain": [
              "<Figure size 432x288 with 1 Axes>"
            ],
            "image/png": "[encoded data removed]"
          },
          "metadata": {
            "needs_background": "light"
          }
        }
      ],
      "source": [
        "!pip install wget\n",
        "import numpy as np\n",
        "import matplotlib.pyplot as plt\n",
        "import pandas as pd\n",
        "import os.path as path\n",
        "import os\n",
        "import wget\n",
        "\n",
        "# Descargar datos\n",
        "if not path.exists('Data'):\n",
        "    os.mkdir('Data')\n",
        "    \n",
        "file = 'Data/Interpolacion.dat'\n",
        "url = 'https://raw.githubusercontent.com/asegura4488/Database/main/MetodosComputacionalesReforma/InterpolacionNewtonNoequi.csv'\n",
        "Path_ = wget.download(url,file)\n",
        "Data = pd.read_csv(Path_)\n",
        "\n",
        "# Convertir datos a arrays numpy\n",
        "X = np.array(Data.X)\n",
        "Y = np.array(Data.Y)\n",
        "\n",
        "# Esta función calcula la matrzi de diferencias finitas dividad progresivas, que son las que se necesitan cuan los datos no están equiespaciados\n",
        "def newton_divided_differences(x, y):\n",
        "    n = len(x)\n",
        "    divided_diffs = np.zeros((n, n))\n",
        "    divided_diffs[:, 0] = y\n",
        "    for j in range(1, n):\n",
        "        for i in range(j, n):\n",
        "            divided_diffs[i, j] = (divided_diffs[i, j - 1] - divided_diffs[i - 1, j - 1]) / (x[i] - x[i - j])\n",
        "    return divided_diffs.diagonal()\n",
        "\n",
        "\n",
        "# Esta es la funcón que implementa la interpolacion de Newton - Gregory\n",
        "def newton_interpolation(x, y, x_interp):\n",
        "    n = len(x)\n",
        "    fdd = newton_divided_differences(x, y)\n",
        "    p = np.zeros(len(x_interp))\n",
        "    for i, x_int in enumerate(x_interp):\n",
        "        p[i] = fdd[0]\n",
        "        for j in range(1, n):\n",
        "            p[i] += fdd[j] * np.prod(x_int - x[:j])\n",
        "    return p\n",
        "\n",
        "# Graficar resultados\n",
        "x_interp = np.linspace(X[0], X[-1], 100)\n",
        "y_interp = newton_interpolation(X, Y, x_interp)\n",
        "plt.plot(x_interp, y_interp, label=\"Interpolación\")\n",
        "plt.scatter(X, Y, color=\"red\", label=\"Datos conocidos\")\n",
        "plt.legend()\n",
        "plt.show()\n"
      ]
    }
  ]
}