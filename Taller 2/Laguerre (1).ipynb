{
 "cells": [
  {
   "cell_type": "code",
   "execution_count": 1,
   "id": "9d9b1a73",
   "metadata": {},
   "outputs": [],
   "source": [
    "import sympy as sym\n",
    "import numpy as np\n",
    "import matplotlib.pyplot as plt\n",
    "x = sym.Symbol('x',real=True)\n",
    "def Laguerre(n):\n",
    "    return (sym.exp(x)/sym.factorial(n))*(sym.diff(sym.exp(-x)*(x**n),x,n))"
   ]
  },
  {
   "cell_type": "code",
   "execution_count": 2,
   "id": "59d4a409",
   "metadata": {},
   "outputs": [],
   "source": [
    "def GetNewtonRaphson(f,df,xn,itmax = 100, precision=1e-5):\n",
    "    \n",
    "    error = 1\n",
    "    it = 0\n",
    "    \n",
    "    while error > precision and it <= itmax:\n",
    "        \n",
    "        try:\n",
    "            \n",
    "            xn1 = xn - f(xn)/df(xn)\n",
    "            \n",
    "            error = np.abs(f(xn)/df(xn))\n",
    "            \n",
    "            #print(error)\n",
    "            \n",
    "        except ZeroDivisionError:\n",
    "            \n",
    "            print('Division por cero')\n",
    "            \n",
    "        it += 1\n",
    "        xn = xn1\n",
    "    \n",
    "    if it == itmax:\n",
    "        False\n",
    "    else:\n",
    "        return xn\n",
    "    \n",
    "def GetAllRoots(x,tolerancia=8):\n",
    "    \n",
    "    Roots = np.array([])\n",
    "    \n",
    "    for i in x:\n",
    "        \n",
    "        root = GetNewtonRaphson(func,funcd,i)\n",
    "        \n",
    "        if root != False:\n",
    "            \n",
    "            croot = np.round(root, tolerancia)\n",
    "            \n",
    "            if croot not in Roots:\n",
    "                Roots = np.append(Roots,croot)\n",
    "                \n",
    "    Roots.sort()\n",
    "        \n",
    "    return Roots"
   ]
  },
  {
   "cell_type": "code",
   "execution_count": 3,
   "id": "db25e100",
   "metadata": {},
   "outputs": [
    {
     "name": "stdout",
     "output_type": "stream",
     "text": [
      "Las raíces para: Laguerre 1son: \n",
      "[1.]\n",
      "Las raíces para: Laguerre 2son: \n",
      "[0.58578644 3.41421356]\n",
      "Las raíces para: Laguerre 3son: \n",
      "[0.41577456 2.29428036 6.28994508]\n",
      "Las raíces para: Laguerre 4son: \n",
      "[0.32254769 1.7457611  4.5366203  9.39507091]\n",
      "Las raíces para: Laguerre 5son: \n",
      "[ 0.26356032  1.41340306  3.59642577  7.08581001 12.64080084]\n",
      "Las raíces para: Laguerre 6son: \n",
      "[ 0.2228466   1.1889321   2.99273633  5.77514357  9.83746742 15.98287398]\n",
      "Las raíces para: Laguerre 7son: \n",
      "[ 0.19304368  1.0266649   2.56787674  4.90035308  8.18215344 12.73418029\n",
      " 19.39572786]\n",
      "Las raíces para: Laguerre 8son: \n",
      "[ 0.17027963  0.90370178  2.25108663  4.26670017  7.0459054  10.75851601\n",
      " 15.74067864 22.86313174]\n",
      "Las raíces para: Laguerre 9son: \n",
      "[ 0.15232223  0.80722002  2.00513516  3.78347397  6.20495678  9.37298525\n",
      " 13.46623691 18.83359779 26.37407189]\n",
      "Las raíces para: Laguerre 10son: \n",
      "[ 0.13779347  0.72945455  1.8083429   3.4014337   5.55249614  8.33015275\n",
      " 11.84378584 16.27925783 21.99658581 29.92069701]\n",
      "Las raíces para: Laguerre 11son: \n",
      "[ 0.12579644  0.66541826  1.64715055  3.09113814  5.0292844   7.50988786\n",
      " 10.605951   14.43161376 19.1788574  25.21770934 33.49719285]\n",
      "Las raíces para: Laguerre 12son: \n",
      "[ 0.11572212  0.61175748  1.51261027  2.83375134  4.59922764  6.84452545\n",
      "  9.62131684 13.00605499 17.11685519 22.15109038 28.48796725 37.09912104]\n",
      "Las raíces para: Laguerre 13son: \n",
      "[ 0.10714239  0.5661319   1.39856434  2.61659711  4.23884593  6.29225627\n",
      "  8.81500194 11.86140359 15.51076204 19.88463566 31.8003863  40.72300867]\n",
      "Las raíces para: Laguerre 14son: \n",
      "[ 0.09974751  0.52685765  1.30062912  2.43080108  3.93210282  5.82553622\n",
      "  8.14024014 10.91649951 14.21080501 18.10489222 22.72338163 28.27298172\n",
      " 35.14944366 44.36608171]\n",
      "Las raíces para: Laguerre 15son: \n",
      "[ 0.09330781  0.49269174  1.21559541  2.26994953  3.66762272  5.42533663\n",
      "  7.56591623 10.12022857 13.13028248 16.65440771 20.7764789  25.62389423\n",
      " 31.40751917 38.53068331 48.02608557]\n",
      "Las raíces para: Laguerre 16son: \n",
      "[ 0.08764941  0.46269633  1.14105777  2.12928365  3.43708663  5.07801861\n",
      "  7.07033853  7.07033854  9.43831434 12.21422337 15.44152737 19.18015686\n",
      " 23.51590569 28.57872974 51.70116034]\n",
      "Las raíces para: Laguerre 17son: \n",
      "[ 0.08263821  0.43615032  1.07517658  2.00519353  3.23425612  4.77351351\n",
      "  6.63782921  8.84668551 11.42552932 14.40782304 17.83828473 21.77826825\n",
      " 21.77826826 37.79609384 55.38975179]\n",
      "Las raíces para: Laguerre 18son: \n",
      "[ 0.07816917  0.41249009  1.01652018  1.89488851  3.05435311  4.50420554\n",
      "  6.25672507  8.32782516 10.73799005 13.51365621 16.68930627 16.68930628\n",
      " 20.31076763 20.31076766 24.44068133 29.1682087  41.04181678 59.09054644]\n",
      "Las raíces para: Laguerre 19son: \n",
      "[ 0.07415878  0.39126861  0.96395734  1.79617558  2.89365138  4.26421554\n",
      "  5.91814156  7.86861891  7.86861892 10.13242372 12.73088146 12.73088147\n",
      " 15.69127832 15.69127834 15.69127836 19.04899319 22.85084977 22.85084978\n",
      " 22.85084979 27.16066928 32.06912225 37.71290576 37.7129058  52.31290246\n",
      " 62.80242315]\n",
      "Las raíces para: Laguerre 20son: \n",
      "[ 0.07053989  0.37212682  0.9165821   1.70730653  2.74919926  4.04892531\n",
      "  5.61517497  7.45901745  9.59439287  9.59439288 12.03880253 12.03880254\n",
      " 12.03880255 14.81429342 14.81429344 14.81429345 14.81429347 17.9488955\n",
      " 21.47878822 21.47878826 25.45170286 40.83305711 55.81079575 66.52441653]\n"
     ]
    },
    {
     "data": {
      "text/latex": [
       "$\\displaystyle - \\frac{x^{7}}{5040} + \\frac{7 x^{6}}{720} - \\frac{7 x^{5}}{40} + \\frac{35 x^{4}}{24} - \\frac{35 x^{3}}{6} + \\frac{21 x^{2}}{2} - 7 x + 1$"
      ],
      "text/plain": [
       "-x**7/5040 + 7*x**6/720 - 7*x**5/40 + 35*x**4/24 - 35*x**3/6 + 21*x**2/2 - 7*x + 1"
      ]
     },
     "execution_count": 3,
     "metadata": {},
     "output_type": "execute_result"
    }
   ],
   "source": [
    "n = 20\n",
    "for i in range(n):\n",
    "    x = sym.Symbol('x',real=True)\n",
    "    f = Laguerre(i+1)\n",
    "    df = sym.diff(f,x)\n",
    "    func = sym.lambdify([x],f,'numpy')\n",
    "    funcd = sym.lambdify([x],df,'numpy')\n",
    "    y = np.linspace(-10,10,1000)\n",
    "    roots = GetAllRoots(y)\n",
    "    print(\"Las raíces para: Laguerre \"+str(i+1)+\"son: \")\n",
    "    print(roots)"
   ]
  },
  {
   "cell_type": "code",
   "execution_count": null,
   "id": "ae7fd821",
   "metadata": {},
   "outputs": [],
   "source": []
  },
  {
   "cell_type": "code",
   "execution_count": null,
   "id": "05b477aa",
   "metadata": {},
   "outputs": [],
   "source": []
  }
 ],
 "metadata": {
  "kernelspec": {
   "display_name": "Python 3 (ipykernel)",
   "language": "python",
   "name": "python3"
  },
  "language_info": {
   "codemirror_mode": {
    "name": "ipython",
    "version": 3
   },
   "file_extension": ".py",
   "mimetype": "text/x-python",
   "name": "python",
   "nbconvert_exporter": "python",
   "pygments_lexer": "ipython3",
   "version": "3.9.13"
  }
 },
 "nbformat": 4,
 "nbformat_minor": 5
}
