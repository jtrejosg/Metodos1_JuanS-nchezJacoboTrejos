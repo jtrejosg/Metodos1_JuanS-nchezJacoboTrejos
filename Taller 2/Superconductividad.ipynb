{
 "cells": [
  {
   "cell_type": "code",
   "execution_count": 8,
   "id": "d0f9e652",
   "metadata": {},
   "outputs": [],
   "source": [
    "import numpy as np"
   ]
  },
  {
   "cell_type": "code",
   "execution_count": 75,
   "id": "506ba453",
   "metadata": {},
   "outputs": [
    {
     "data": {
      "text/plain": [
       "7.2092"
      ]
     },
     "execution_count": 75,
     "metadata": {},
     "output_type": "execute_result"
    }
   ],
   "source": [
    "T = np.linspace(1,20,10001)\n",
    "a = -1\n",
    "b = 1\n",
    "n = 50\n",
    "TD = 300\n",
    "N0V = 0.3\n",
    "dT = 1e-4\n",
    "sumatoria = 0\n",
    "roots, weigths = np.polynomial.laguerre.laggauss(n)\n",
    "y = ((b-a)*roots + a + b)/2\n",
    "for i in range(len(T)):\n",
    "    f = lambda x: (np.tanh(np.sqrt(x**2)*TD/(2*T[i])))/(np.sqrt(x**2))\n",
    "    sumatoria = np.sum(weigths*f(y))\n",
    "    if np.abs((sumatoria)-1/(N0V)) < dT: \n",
    "        Tc = T[i]\n",
    "Tc"
   ]
  },
  {
   "cell_type": "code",
   "execution_count": null,
   "id": "1e06200c",
   "metadata": {},
   "outputs": [],
   "source": []
  },
  {
   "cell_type": "code",
   "execution_count": null,
   "id": "2cd4f5e2",
   "metadata": {},
   "outputs": [],
   "source": []
  }
 ],
 "metadata": {
  "kernelspec": {
   "display_name": "Python 3 (ipykernel)",
   "language": "python",
   "name": "python3"
  },
  "language_info": {
   "codemirror_mode": {
    "name": "ipython",
    "version": 3
   },
   "file_extension": ".py",
   "mimetype": "text/x-python",
   "name": "python",
   "nbconvert_exporter": "python",
   "pygments_lexer": "ipython3",
   "version": "3.9.13"
  }
 },
 "nbformat": 4,
 "nbformat_minor": 5
}
