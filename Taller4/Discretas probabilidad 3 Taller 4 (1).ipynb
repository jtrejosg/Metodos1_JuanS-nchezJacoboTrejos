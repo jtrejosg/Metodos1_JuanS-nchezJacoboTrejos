{
 "cells": [
  {
   "cell_type": "code",
   "execution_count": 6,
   "id": "ecb42597",
   "metadata": {},
   "outputs": [],
   "source": [
    "import numpy as np"
   ]
  },
  {
   "cell_type": "code",
   "execution_count": 7,
   "id": "34fa4719",
   "metadata": {},
   "outputs": [],
   "source": [
    "def combinatoria_sin_repe(n,r):\n",
    "    return (np.math.factorial(n))/((np.math.factorial(r))*np.math.factorial(n-r))"
   ]
  },
  {
   "cell_type": "code",
   "execution_count": 8,
   "id": "4ef611a5",
   "metadata": {},
   "outputs": [
    {
     "name": "stdout",
     "output_type": "stream",
     "text": [
      "La distribución se describe de esta manera ya que el primer término es el número de que salga uno bueno y no salga defectuoso. El segundo, que salga defectuoso. El último término es la cantidad de combinaciones de escoger dos objetos entre 10 posibles.\n"
     ]
    }
   ],
   "source": [
    "def f(x):\n",
    "    return (combinatoria_sin_repe(7,2-x)*combinatoria_sin_repe(3,x))/combinatoria_sin_repe(10,2)\n",
    "print(\"La distribución se describe de esta manera ya que el primer término es el número de que salga uno bueno y no salga defectuoso. El segundo, que salga defectuoso. El último término es la cantidad de combinaciones de escoger dos objetos entre 10 posibles.\")"
   ]
  },
  {
   "cell_type": "code",
   "execution_count": 11,
   "id": "55e82c7f",
   "metadata": {},
   "outputs": [
    {
     "name": "stdout",
     "output_type": "stream",
     "text": [
      "0.4666666666666667 0.4666666666666667\n",
      "0.4666666666666667 0.4666666666666667\n",
      "0.06666666666666667 0.06666666666666667\n",
      "Probabilidad defectuoso: 0.6\n"
     ]
    }
   ],
   "source": [
    "x0 = f(0)\n",
    "x1 = f(1)\n",
    "x2 = f(2)\n",
    "probabilidad = 0*f(0)+1*f(1)+2*f(2)\n",
    "print(x0,7/15)\n",
    "print(x1,7/15)\n",
    "print(x2,1/15)\n",
    "print(\"Probabilidad defectuoso: \"+str(probabilidad))"
   ]
  }
 ],
 "metadata": {
  "kernelspec": {
   "display_name": "Python 3 (ipykernel)",
   "language": "python",
   "name": "python3"
  },
  "language_info": {
   "codemirror_mode": {
    "name": "ipython",
    "version": 3
   },
   "file_extension": ".py",
   "mimetype": "text/x-python",
   "name": "python",
   "nbconvert_exporter": "python",
   "pygments_lexer": "ipython3",
   "version": "3.9.13"
  }
 },
 "nbformat": 4,
 "nbformat_minor": 5
}
