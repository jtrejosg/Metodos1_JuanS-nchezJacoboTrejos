{
 "cells": [
  {
   "cell_type": "code",
   "execution_count": 6,
   "id": "6f62c74f",
   "metadata": {},
   "outputs": [],
   "source": [
    "import numpy as np"
   ]
  },
  {
   "cell_type": "code",
   "execution_count": 25,
   "id": "8abc4686",
   "metadata": {},
   "outputs": [],
   "source": [
    "def Contador(verdes,rojas,azules,elegir):\n",
    "    combinaciones_posibles = []\n",
    "    contador = 0\n",
    "    for i in range(verdes+1):\n",
    "        for j in range(rojas+1):\n",
    "            for k in range(azules+1):\n",
    "                if i+j+k == elegir:\n",
    "                    combinaciones_posibles.append([i,j,k])\n",
    "                    contador +=1\n",
    "                    \n",
    "    return contador,combinaciones_posibles"
   ]
  },
  {
   "cell_type": "code",
   "execution_count": 26,
   "id": "0ef9dc5d",
   "metadata": {},
   "outputs": [
    {
     "data": {
      "text/plain": [
       "(12,\n",
       " [[0, 1, 3],\n",
       "  [0, 2, 2],\n",
       "  [0, 3, 1],\n",
       "  [1, 0, 3],\n",
       "  [1, 1, 2],\n",
       "  [1, 2, 1],\n",
       "  [1, 3, 0],\n",
       "  [2, 0, 2],\n",
       "  [2, 1, 1],\n",
       "  [2, 2, 0],\n",
       "  [3, 0, 1],\n",
       "  [3, 1, 0]])"
      ]
     },
     "execution_count": 26,
     "metadata": {},
     "output_type": "execute_result"
    }
   ],
   "source": [
    "Contador(3,3,3,4)"
   ]
  }
 ],
 "metadata": {
  "kernelspec": {
   "display_name": "Python 3 (ipykernel)",
   "language": "python",
   "name": "python3"
  },
  "language_info": {
   "codemirror_mode": {
    "name": "ipython",
    "version": 3
   },
   "file_extension": ".py",
   "mimetype": "text/x-python",
   "name": "python",
   "nbconvert_exporter": "python",
   "pygments_lexer": "ipython3",
   "version": "3.9.13"
  }
 },
 "nbformat": 4,
 "nbformat_minor": 5
}
