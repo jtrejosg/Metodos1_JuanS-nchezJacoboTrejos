{
  "nbformat": 4,
  "nbformat_minor": 0,
  "metadata": {
    "colab": {
      "provenance": []
    },
    "kernelspec": {
      "name": "python3",
      "display_name": "Python 3"
    },
    "language_info": {
      "name": "python"
    }
  },
  "cells": [
    {
      "cell_type": "code",
      "execution_count": 15,
      "metadata": {
        "colab": {
          "base_uri": "https://localhost:8080/"
        },
        "id": "_7lZ07g1rf9I",
        "outputId": "27e2537e-917d-4548-c0d4-36c0068bd121"
      },
      "outputs": [
        {
          "output_type": "stream",
          "name": "stderr",
          "text": [
            "100%|██████████| 9999/9999 [00:02<00:00, 4131.89it/s]"
          ]
        },
        {
          "output_type": "stream",
          "name": "stdout",
          "text": [
            "p̂ = 0.68 ± 0.12 a un nivel de confianza del 68%\n",
            "Si la moneda no estuviera truncada, p̂ debería acercarse a 0.5. En este caso, obtuvimos un valor bastante alejado, p̂ = 0.68.\n",
            "Por tanto, se concluye que la moneda sí está truncada.\n"
          ]
        },
        {
          "output_type": "stream",
          "name": "stderr",
          "text": [
            "\n"
          ]
        }
      ],
      "source": [
        "import numpy as np\n",
        "import matplotlib.pyplot as plt\n",
        "from tqdm import tqdm\n",
        "import scipy.integrate as integrate\n",
        "\n",
        "def Prior(p):\n",
        "    return np.piecewise( p, [p>= 0 and p <= 1, p<0 and p > 1], [lambda p: 1, lambda p:0])\n",
        "Prior = np.vectorize(Prior)\n",
        "\n",
        "def Likelihood(p,r,n):\n",
        "    return p**r*(1-p)**(n-r)\n",
        "\n",
        "def Posterior(p,r,n):\n",
        "    return Likelihood(p,r,n)*Prior(p)\n",
        "\n",
        "def Metropolis(x0, Posterior, NSteps=int(1e4), delta= 0.4):\n",
        "    \n",
        "    x = np.zeros((NSteps,1))\n",
        "    \n",
        "    # Prior\n",
        "    x[0] = x0\n",
        "    \n",
        "    for i in tqdm(range(1,NSteps)):\n",
        "        \n",
        "        P0 = Posterior(x[i-1],r,n)\n",
        "        \n",
        "        xf = x[i-1] + delta*2*(np.random.rand()-0.5)\n",
        "        \n",
        "        P1 = Posterior(xf,r,n)\n",
        "        \n",
        "        alpha = np.minimum( 1, P1/P0 )\n",
        "        g = np.random.rand()\n",
        "        \n",
        "        if alpha > g:\n",
        "            x[i,0] = xf\n",
        "        else:\n",
        "            x[i,:] = x[i-1,:]\n",
        "            \n",
        "    return x[1000:,:]\n",
        "\n",
        "p = np.linspace(0,1,100)\n",
        "r = 7\n",
        "n = 10\n",
        "Pos = Posterior(p,r,n)\n",
        "I,_ = integrate.quad(Posterior,p[0],p[-1],args=(r,n))\n",
        "initparams = np.array([0.2])\n",
        "MCMC = Metropolis(initparams,Posterior)\n",
        "liminf = np.percentile(MCMC,16)\n",
        "limsum = np.percentile(MCMC,84)\n",
        "mean = np.percentile(MCMC,50)\n",
        "confidence = 68\n",
        "conclusion = \"p̂ = {:.2f} ± {:.2f} a un nivel de confianza del {}%\"\n",
        "print(conclusion.format(mean, (limsum - mean), confidence))\n",
        "print(\"Si la moneda no estuviera truncada, p̂ debería acercarse a 0.5. En este caso, obtuvimos un valor bastante alejado, p̂ = 0.68.\\nPor tanto, se concluye que la moneda sí está truncada.\")"
      ]
    }
  ]
}