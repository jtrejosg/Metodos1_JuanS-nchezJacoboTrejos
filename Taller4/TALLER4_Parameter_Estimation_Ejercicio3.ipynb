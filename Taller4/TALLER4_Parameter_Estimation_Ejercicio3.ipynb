{
  "nbformat": 4,
  "nbformat_minor": 0,
  "metadata": {
    "colab": {
      "provenance": []
    },
    "kernelspec": {
      "name": "python3",
      "display_name": "Python 3"
    },
    "language_info": {
      "name": "python"
    }
  },
  "cells": [
    {
      "cell_type": "code",
      "execution_count": 15,
      "metadata": {
        "colab": {
          "base_uri": "https://localhost:8080/"
        },
        "id": "d8z3dYN2ud5c",
        "outputId": "443be530-6c03-42a7-df42-0d44a314ae0c"
      },
      "outputs": [
        {
          "output_type": "stream",
          "name": "stderr",
          "text": [
            "<ipython-input-15-03d936be906b>:29: RuntimeWarning: divide by zero encountered in log\n",
            "  return np.log(likelihood(x, mu, sigma) * prior(mu, sigma))\n"
          ]
        },
        {
          "output_type": "stream",
          "name": "stdout",
          "text": [
            "Mejor valor del parámetro mu: 4.017910676645029\n",
            "Mejor valor del parámetro sigma: 1.8375720893799452\n",
            "µ estimado = 4.02 ± 0.19 a un nivel de confianza del 68%\n",
            "σ estimado = 1.84 ± 0.13 a un nivel de confianza del 68%\n"
          ]
        }
      ],
      "source": [
        "import numpy as np\n",
        "import pandas as pd\n",
        "import matplotlib.pyplot as plt\n",
        "from tqdm import tqdm\n",
        "\n",
        "# Paso a): Descargar los datos\n",
        "url = \"https://raw.githubusercontent.com/asegura4488/Database/main/MetodosComputacionalesReforma/Gaussiano.csv\"\n",
        "data = pd.read_csv(url)\n",
        "x = data[\"x\"].values\n",
        "\n",
        "# Paso b): Distribución a priori uniforme\n",
        "def prior(mu, sigma):\n",
        "    if 3 <= mu <= 5 and 0.5 <= sigma <= 3.5:\n",
        "        return 1\n",
        "    else:\n",
        "        return 0\n",
        "\n",
        "# Paso c): Función de likelihood gaussiana\n",
        "def likelihood(x, mu, sigma):\n",
        "    N = len(x)\n",
        "    product_likelihood = 1\n",
        "    for xi in x:\n",
        "        likelihood = (1 / (sigma * np.sqrt(2 * np.pi))) * np.exp(-(xi - mu)**2 / (2 * sigma**2))\n",
        "        product_likelihood *= likelihood\n",
        "    return product_likelihood\n",
        "\n",
        "# Paso d): Cálculo del logaritmo de la distribución posterior\n",
        "def log_posterior(mu, sigma, x):\n",
        "    return np.log(likelihood(x, mu, sigma) * prior(mu, sigma))\n",
        "\n",
        "# Paso e): Algoritmo de Metrópolis-Hastings\n",
        "def metropolis_hastings(x, initial_mu, initial_sigma, num_steps, delta=0.5):\n",
        "    mu = np.zeros(num_steps)\n",
        "    sigma = np.zeros(num_steps)\n",
        "    mu[0] = initial_mu\n",
        "    sigma[0] = initial_sigma\n",
        "\n",
        "    for i in range(0, num_steps-1):\n",
        "        # Propuesta de nuevo valor para mu y sigma\n",
        "        new_mu = mu[i] + np.random.uniform(-delta, delta)\n",
        "        new_sigma = sigma[i] + np.random.uniform(-delta, delta)\n",
        "\n",
        "        # Calcula el logaritmo de la probabilidad de aceptación\n",
        "        log_acceptance = log_posterior(new_mu, new_sigma, x) - log_posterior(mu[i], sigma[i], x)\n",
        "\n",
        "        # Genera un número aleatorio entre 0 y 1\n",
        "        acceptance_prob = np.random.rand()\n",
        "\n",
        "        # Acepta o rechaza la propuesta basado en el logaritmo de la probabilidad de aceptación\n",
        "        if np.log(acceptance_prob) < log_acceptance:\n",
        "            mu[i+1] = new_mu\n",
        "            sigma[i+1] = new_sigma\n",
        "\n",
        "        else:\n",
        "            mu[i+1] = mu[i]\n",
        "            sigma[i+1] = sigma[i]\n",
        "\n",
        "    return mu, sigma\n",
        "\n",
        "# Paso f): Estimación de los parámetros mu y sigma\n",
        "num_steps = 2 * 10**4\n",
        "initial_mu = 4\n",
        "initial_sigma = 2\n",
        "mu_samples, sigma_samples = metropolis_hastings(x, initial_mu, initial_sigma, num_steps)\n",
        "\n",
        "best_mu = np.mean(mu_samples)\n",
        "best_sigma = np.mean(sigma_samples)\n",
        "print(\"Mejor valor del parámetro mu:\", best_mu)\n",
        "print(\"Mejor valor del parámetro sigma:\", best_sigma)\n",
        "\n",
        "# Paso g): Calcular los errores de los parámetros en un intervalo de confianza del 68%\n",
        "liminfmu = np.percentile(mu_samples,16)\n",
        "limsummu = np.percentile(mu_samples,84)\n",
        "liminfsigma = np.percentile(sigma_samples,16)\n",
        "limsumsigma = np.percentile(sigma_samples,84)\n",
        "confidence = 68\n",
        "\n",
        "conclusionmu = \"µ estimado = {:.2f} ± {:.2f} a un nivel de confianza del {}%\"\n",
        "conclusionsigma = \"σ estimado = {:.2f} ± {:.2f} a un nivel de confianza del {}%\"\n",
        "\n",
        "print(conclusionmu.format(best_mu, (limsummu - best_mu), confidence))\n",
        "print(conclusionsigma.format(best_sigma, (limsumsigma - best_sigma), confidence))\n"
      ]
    }
  ]
}