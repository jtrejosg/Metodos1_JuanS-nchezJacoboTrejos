{
 "cells": [
  {
   "cell_type": "code",
   "execution_count": 1,
   "metadata": {},
   "outputs": [],
   "source": [
    "import numpy as np\n",
    "import sympy as sp"
   ]
  },
  {
   "cell_type": "code",
   "execution_count": 2,
   "metadata": {},
   "outputs": [
    {
     "data": {
      "text/latex": [
       "$\\displaystyle 0.666666666666667 x + 1.33333333333333 y$"
      ],
      "text/plain": [
       "0.666666666666667*x + 1.33333333333333*y"
      ]
     },
     "execution_count": 2,
     "metadata": {},
     "output_type": "execute_result"
    }
   ],
   "source": [
    "x = sp.symbols(\"x\")\n",
    "y = sp.symbols(\"y\")\n",
    "funcion = (2/3)*(x+2*y)\n",
    "funcion"
   ]
  },
  {
   "cell_type": "code",
   "execution_count": 3,
   "metadata": {},
   "outputs": [
    {
     "name": "stdout",
     "output_type": "stream",
     "text": [
      "1.00000000000000\n",
      "Es una función de densidad conjunta válida ya que al integrarlo en el espacio en que la función es diferente de 0 nos da 1.\n"
     ]
    }
   ],
   "source": [
    "z = sp.integrate(funcion,(y,0,1))\n",
    "w = sp.integrate(z,(x,0,1))\n",
    "print(w)  \n",
    "print(\"Es una función de densidad conjunta válida ya que al integrarlo en el espacio en que la función es diferente de 0 nos da 1.\")"
   ]
  },
  {
   "cell_type": "code",
   "execution_count": 4,
   "metadata": {},
   "outputs": [
    {
     "data": {
      "text/latex": [
       "$\\displaystyle 0.666666666666667 x + 0.666666666666667$"
      ],
      "text/plain": [
       "0.666666666666667*x + 0.666666666666667"
      ]
     },
     "execution_count": 4,
     "metadata": {},
     "output_type": "execute_result"
    }
   ],
   "source": [
    "g = sp.integrate(funcion,(y,0,1))\n",
    "g"
   ]
  },
  {
   "cell_type": "code",
   "execution_count": 5,
   "metadata": {},
   "outputs": [
    {
     "data": {
      "text/latex": [
       "$\\displaystyle 1.33333333333333 y + 0.333333333333333$"
      ],
      "text/plain": [
       "1.33333333333333*y + 0.333333333333333"
      ]
     },
     "execution_count": 5,
     "metadata": {},
     "output_type": "execute_result"
    }
   ],
   "source": [
    "h = sp.integrate(funcion,(x,0,1))\n",
    "h"
   ]
  },
  {
   "cell_type": "code",
   "execution_count": 6,
   "metadata": {},
   "outputs": [
    {
     "name": "stdout",
     "output_type": "stream",
     "text": [
      "0.555555555555556 0.5555555555555556\n"
     ]
    }
   ],
   "source": [
    "g_x = g*x\n",
    "valor_esperadox = sp.integrate(g_x,(x,0,1))\n",
    "print(valor_esperadox,10/18)"
   ]
  },
  {
   "cell_type": "code",
   "execution_count": 7,
   "metadata": {},
   "outputs": [
    {
     "name": "stdout",
     "output_type": "stream",
     "text": [
      "0.611111111111111 0.6111111111111112\n"
     ]
    }
   ],
   "source": [
    "h_y = h*y\n",
    "valor_esperadoy = sp.integrate(h_y,(y,0,1))\n",
    "print(valor_esperadoy,11/18)"
   ]
  },
  {
   "cell_type": "code",
   "execution_count": 8,
   "metadata": {},
   "outputs": [],
   "source": [
    "f_x_y = funcion*x*y\n",
    "valor_esperadoxy = sp.integrate(sp.integrate(f_x_y,(x,0,1)),(y,0,1))"
   ]
  },
  {
   "cell_type": "code",
   "execution_count": 9,
   "metadata": {},
   "outputs": [
    {
     "data": {
      "text/latex": [
       "$\\displaystyle -0.00617$"
      ],
      "text/plain": [
       "-0.00617"
      ]
     },
     "execution_count": 9,
     "metadata": {},
     "output_type": "execute_result"
    }
   ],
   "source": [
    "covarianza = valor_esperadoxy - valor_esperadox * valor_esperadoy\n",
    "round(covarianza,5)"
   ]
  },
  {
   "cell_type": "code",
   "execution_count": 10,
   "metadata": {},
   "outputs": [
    {
     "data": {
      "text/latex": [
       "$\\displaystyle -0.00617$"
      ],
      "text/plain": [
       "-0.00617"
      ]
     },
     "execution_count": 10,
     "metadata": {},
     "output_type": "execute_result"
    }
   ],
   "source": [
    "f_x_y2 = funcion*(x-valor_esperadox)*(y-valor_esperadoy)\n",
    "covarianza2 = sp.integrate(sp.integrate(f_x_y2,(x,0,1)),(y,0,1))\n",
    "round(covarianza2,5)"
   ]
  },
  {
   "cell_type": "code",
   "execution_count": 11,
   "metadata": {},
   "outputs": [
    {
     "name": "stdout",
     "output_type": "stream",
     "text": [
      "Las variables x e y no son independientes debido a que su covarianza es diferente de 0.\n"
     ]
    }
   ],
   "source": [
    "print(\"Las variables x e y no son independientes debido a que su covarianza es diferente de 0.\")"
   ]
  }
 ],
 "metadata": {
  "kernelspec": {
   "display_name": "Python 3 (ipykernel)",
   "language": "python",
   "name": "python3"
  },
  "language_info": {
   "codemirror_mode": {
    "name": "ipython",
    "version": 3
   },
   "file_extension": ".py",
   "mimetype": "text/x-python",
   "name": "python",
   "nbconvert_exporter": "python",
   "pygments_lexer": "ipython3",
   "version": "3.9.13"
  }
 },
 "nbformat": 4,
 "nbformat_minor": 2
}
