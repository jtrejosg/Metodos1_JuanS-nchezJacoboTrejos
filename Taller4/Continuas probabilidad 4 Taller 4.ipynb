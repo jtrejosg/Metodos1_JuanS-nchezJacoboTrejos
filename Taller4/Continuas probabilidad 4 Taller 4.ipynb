{
 "cells": [
  {
   "cell_type": "code",
   "execution_count": 2,
   "id": "fb8f4434",
   "metadata": {},
   "outputs": [],
   "source": [
    "import numpy as np\n",
    "import sympy as sym"
   ]
  },
  {
   "cell_type": "code",
   "execution_count": 8,
   "id": "53abc328",
   "metadata": {},
   "outputs": [
    {
     "name": "stdout",
     "output_type": "stream",
     "text": [
      "exp(-x)\n",
      "exp(2*x/3)\n",
      "exp(-x/3)\n"
     ]
    }
   ],
   "source": [
    "x = sym.symbols(\"x\")\n",
    "funcionf = sym.exp(-x)\n",
    "funciong = sym.exp(2*x/3)\n",
    "funcionh = funcionf*funciong\n",
    "print(funcionf)\n",
    "print(funciong)\n",
    "print(funcionh)"
   ]
  },
  {
   "cell_type": "code",
   "execution_count": 10,
   "id": "33dc3fd5",
   "metadata": {},
   "outputs": [
    {
     "data": {
      "text/latex": [
       "$\\displaystyle 3$"
      ],
      "text/plain": [
       "3"
      ]
     },
     "execution_count": 10,
     "metadata": {},
     "output_type": "execute_result"
    }
   ],
   "source": [
    "valor_esperadog_x = sym.integrate(funcionh,(x,0,sym.oo))\n",
    "valor_esperadog_x"
   ]
  }
 ],
 "metadata": {
  "kernelspec": {
   "display_name": "Python 3 (ipykernel)",
   "language": "python",
   "name": "python3"
  },
  "language_info": {
   "codemirror_mode": {
    "name": "ipython",
    "version": 3
   },
   "file_extension": ".py",
   "mimetype": "text/x-python",
   "name": "python",
   "nbconvert_exporter": "python",
   "pygments_lexer": "ipython3",
   "version": "3.9.13"
  }
 },
 "nbformat": 4,
 "nbformat_minor": 5
}
