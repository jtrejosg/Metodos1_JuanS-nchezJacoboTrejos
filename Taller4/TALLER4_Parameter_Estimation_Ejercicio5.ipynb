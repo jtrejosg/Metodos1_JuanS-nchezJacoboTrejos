{
  "nbformat": 4,
  "nbformat_minor": 0,
  "metadata": {
    "colab": {
      "provenance": []
    },
    "kernelspec": {
      "name": "python3",
      "display_name": "Python 3"
    },
    "language_info": {
      "name": "python"
    }
  },
  "cells": [
    {
      "cell_type": "code",
      "execution_count": 19,
      "metadata": {
        "colab": {
          "base_uri": "https://localhost:8080/"
        },
        "id": "03eCd9kxVdjS",
        "outputId": "0ebf8a2a-de7e-44bc-d297-8baf8ea52d02"
      },
      "outputs": [
        {
          "output_type": "stream",
          "name": "stdout",
          "text": [
            "Varianza estimada: 0.19970559693211076\n"
          ]
        }
      ],
      "source": [
        "import numpy as np\n",
        "\n",
        "def estimador_media_exponencial(n, theta):\n",
        "    muestras = np.random.exponential(scale=theta, size=n)\n",
        "    estimador = np.mean(muestras)\n",
        "    return estimador\n",
        "\n",
        "def montecarlo(n, theta, N):\n",
        "    estimadores = []\n",
        "    for _ in range(N):\n",
        "        estimador = estimador_media_exponencial(n, theta)\n",
        "        estimadores.append(estimador)\n",
        "    \n",
        "    varianza = np.var(estimadores)\n",
        "    return varianza\n",
        "\n",
        "n = 20  \n",
        "theta = 2  \n",
        "N = 10**6  \n",
        "\n",
        "var= montecarlo(n, theta, N)\n",
        "\n",
        "print(\"Varianza estimada:\", var)"
      ]
    }
  ]
}