{
 "cells": [
  {
   "cell_type": "code",
   "execution_count": 2,
   "id": "ecb42597",
   "metadata": {},
   "outputs": [],
   "source": [
    "import numpy as np"
   ]
  },
  {
   "cell_type": "code",
   "execution_count": 3,
   "id": "34fa4719",
   "metadata": {},
   "outputs": [],
   "source": [
    "def combinatoria_sin_repe(n,r):\n",
    "    return (np.math.factorial(n))/((np.math.factorial(r))*np.math.factorial(n-r))"
   ]
  },
  {
   "cell_type": "code",
   "execution_count": 4,
   "id": "4ef611a5",
   "metadata": {},
   "outputs": [],
   "source": [
    "def f(x):\n",
    "    return (combinatoria_sin_repe(7,2-x)*combinatoria_sin_repe(3,x))/combinatoria_sin_repe(10,2)"
   ]
  },
  {
   "cell_type": "code",
   "execution_count": 6,
   "id": "55e82c7f",
   "metadata": {},
   "outputs": [
    {
     "name": "stdout",
     "output_type": "stream",
     "text": [
      "0.4666666666666667 0.4666666666666667\n",
      "0.4666666666666667 0.4666666666666667\n",
      "0.06666666666666667 0.06666666666666667\n"
     ]
    },
    {
     "data": {
      "text/plain": [
       "0.6"
      ]
     },
     "execution_count": 6,
     "metadata": {},
     "output_type": "execute_result"
    }
   ],
   "source": [
    "x0 = f(0)\n",
    "x1 = f(1)\n",
    "x2 = f(2)\n",
    "prob = 0*f(0)+1*f(1)+2*f(2)\n",
    "print(x0,7/15)\n",
    "print(x1,7/15)\n",
    "print(x2,1/15)\n",
    "prob"
   ]
  }
 ],
 "metadata": {
  "kernelspec": {
   "display_name": "Python 3 (ipykernel)",
   "language": "python",
   "name": "python3"
  },
  "language_info": {
   "codemirror_mode": {
    "name": "ipython",
    "version": 3
   },
   "file_extension": ".py",
   "mimetype": "text/x-python",
   "name": "python",
   "nbconvert_exporter": "python",
   "pygments_lexer": "ipython3",
   "version": "3.9.13"
  }
 },
 "nbformat": 4,
 "nbformat_minor": 5
}
