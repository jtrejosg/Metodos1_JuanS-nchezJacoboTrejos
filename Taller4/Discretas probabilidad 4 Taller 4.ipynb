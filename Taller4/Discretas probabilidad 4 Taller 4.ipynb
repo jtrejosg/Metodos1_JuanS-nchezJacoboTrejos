{
 "cells": [
  {
   "cell_type": "code",
   "execution_count": 2,
   "metadata": {},
   "outputs": [],
   "source": [
    "import numpy as np\n",
    "import sympy as sp\n",
    "from sympy import factorial as factorial"
   ]
  },
  {
   "cell_type": "code",
   "execution_count": 3,
   "metadata": {},
   "outputs": [],
   "source": [
    "def combinatoria_sin_repe(n,r):\n",
    "    return (factorial(n))/((factorial(r))*factorial(n-r))"
   ]
  },
  {
   "cell_type": "code",
   "execution_count": 6,
   "metadata": {},
   "outputs": [
    {
     "name": "stdout",
     "output_type": "stream",
     "text": [
      "El primer término es la probabilidad de encontrar un electrón, la segunda de un protón y la tercera de un neutron. La fracción es la combinatoria total de escoger 4 partículas entre 8 posibilidades.\n"
     ]
    },
    {
     "data": {
      "text/latex": [
       "$\\displaystyle \\frac{6}{x! \\left(3 - x\\right)!}$"
      ],
      "text/plain": [
       "6/(factorial(x)*factorial(3 - x))"
      ]
     },
     "execution_count": 6,
     "metadata": {},
     "output_type": "execute_result"
    }
   ],
   "source": [
    "x = sp.symbols(\"x\")\n",
    "y = sp.symbols(\"y\")\n",
    "electron = combinatoria_sin_repe(3,x)\n",
    "proton = combinatoria_sin_repe(2,y)\n",
    "neutron = combinatoria_sin_repe(3,4-x-y)\n",
    "total = combinatoria_sin_repe(8,4)\n",
    "print(\"El primer término es la probabilidad de encontrar un electrón, la segunda de un protón y la tercera de un neutron. La fracción es la combinatoria total de escoger 4 partículas entre 8 posibilidades.\")\n",
    "funcion = electron * proton * neutron / totales\n",
    "electron"
   ]
  },
  {
   "cell_type": "code",
   "execution_count": 12,
   "metadata": {},
   "outputs": [
    {
     "data": {
      "text/latex": [
       "$\\displaystyle \\frac{2}{y! \\left(2 - y\\right)!}$"
      ],
      "text/plain": [
       "2/(factorial(y)*factorial(2 - y))"
      ]
     },
     "execution_count": 12,
     "metadata": {},
     "output_type": "execute_result"
    }
   ],
   "source": [
    "proton"
   ]
  },
  {
   "cell_type": "code",
   "execution_count": 13,
   "metadata": {},
   "outputs": [
    {
     "data": {
      "text/latex": [
       "$\\displaystyle \\frac{6}{\\left(- x - y + 4\\right)! \\left(x + y - 1\\right)!}$"
      ],
      "text/plain": [
       "6/(factorial(-x - y + 4)*factorial(x + y - 1))"
      ]
     },
     "execution_count": 13,
     "metadata": {},
     "output_type": "execute_result"
    }
   ],
   "source": [
    "neutron"
   ]
  },
  {
   "cell_type": "code",
   "execution_count": 7,
   "metadata": {},
   "outputs": [
    {
     "data": {
      "text/latex": [
       "$\\displaystyle 70$"
      ],
      "text/plain": [
       "70"
      ]
     },
     "execution_count": 7,
     "metadata": {},
     "output_type": "execute_result"
    }
   ],
   "source": [
    "total"
   ]
  },
  {
   "cell_type": "code",
   "execution_count": 8,
   "metadata": {},
   "outputs": [
    {
     "data": {
      "text/latex": [
       "$\\displaystyle \\frac{36}{35 x! y! \\left(2 - y\\right)! \\left(3 - x\\right)! \\left(- x - y + 4\\right)! \\left(x + y - 1\\right)!}$"
      ],
      "text/plain": [
       "36/(35*factorial(x)*factorial(y)*factorial(2 - y)*factorial(3 - x)*factorial(-x - y + 4)*factorial(x + y - 1))"
      ]
     },
     "execution_count": 8,
     "metadata": {},
     "output_type": "execute_result"
    }
   ],
   "source": [
    "funcion"
   ]
  },
  {
   "cell_type": "code",
   "execution_count": 9,
   "metadata": {},
   "outputs": [
    {
     "data": {
      "text/latex": [
       "$\\displaystyle \\frac{18}{35 x! \\left(3 - x\\right)! \\left(4 - x\\right)! \\left(x - 1\\right)!} + \\frac{18}{35 x! \\left(2 - x\\right)! \\left(3 - x\\right)! \\left(x + 1\\right)!} + \\frac{36}{35 x!^{2} \\left(3 - x\\right)!^{2}}$"
      ],
      "text/plain": [
       "18/(35*factorial(x)*factorial(3 - x)*factorial(4 - x)*factorial(x - 1)) + 18/(35*factorial(x)*factorial(2 - x)*factorial(3 - x)*factorial(x + 1)) + 36/(35*factorial(x)**2*factorial(3 - x)**2)"
      ]
     },
     "execution_count": 9,
     "metadata": {},
     "output_type": "execute_result"
    }
   ],
   "source": [
    "g = funcion.subs({y:0})+funcion.subs({y:1})+funcion.subs({y:2})\n",
    "g"
   ]
  },
  {
   "cell_type": "code",
   "execution_count": 10,
   "metadata": {},
   "outputs": [
    {
     "data": {
      "text/latex": [
       "$\\displaystyle \\frac{6}{35 y! \\left(2 - y\\right)! \\left(4 - y\\right)! \\left(y - 1\\right)!} + \\frac{18}{35 y! \\left(2 - y\\right)!^{2} \\left(y + 1\\right)!} + \\frac{6}{35 y! \\left(1 - y\\right)! \\left(2 - y\\right)! \\left(y + 2\\right)!} + \\frac{18}{35 y!^{2} \\left(2 - y\\right)! \\left(3 - y\\right)!}$"
      ],
      "text/plain": [
       "6/(35*factorial(y)*factorial(2 - y)*factorial(4 - y)*factorial(y - 1)) + 18/(35*factorial(y)*factorial(2 - y)**2*factorial(y + 1)) + 6/(35*factorial(y)*factorial(1 - y)*factorial(2 - y)*factorial(y + 2)) + 18/(35*factorial(y)**2*factorial(2 - y)*factorial(3 - y))"
      ]
     },
     "execution_count": 10,
     "metadata": {},
     "output_type": "execute_result"
    }
   ],
   "source": [
    "h = funcion.subs({x:0})+funcion.subs({x:1})+funcion.subs({x:2})+funcion.subs({x:3})\n",
    "h"
   ]
  },
  {
   "cell_type": "code",
   "execution_count": 12,
   "metadata": {},
   "outputs": [],
   "source": [
    "def valor_esperadox(f,n):\n",
    "    e = f.subs({x:n})\n",
    "    prob = e*n\n",
    "    return prob\n",
    "\n",
    "def valor_esperadoy(f,n):\n",
    "    e = f.subs({y:n})\n",
    "    prob = e*n\n",
    "    return prob\n",
    "def valor_esperadoxy(f,n,m):\n",
    "    e = f.subs({x:n,y:m})\n",
    "    prob = e*n*m\n",
    "    return prob"
   ]
  },
  {
   "cell_type": "code",
   "execution_count": 14,
   "metadata": {},
   "outputs": [
    {
     "data": {
      "text/latex": [
       "$\\displaystyle \\frac{3}{2}$"
      ],
      "text/plain": [
       "3/2"
      ]
     },
     "execution_count": 14,
     "metadata": {},
     "output_type": "execute_result"
    }
   ],
   "source": [
    "arreglo_e = np.linspace(0,3,4)\n",
    "valor_esperadoe = 0\n",
    "for i in range(len(arreglo_e)):\n",
    "    electron = valor_esperadox(g,i)\n",
    "    valor_esperadoe += electron\n",
    "valor_esperadoe"
   ]
  },
  {
   "cell_type": "code",
   "execution_count": 16,
   "metadata": {},
   "outputs": [
    {
     "data": {
      "text/latex": [
       "$\\displaystyle 1$"
      ],
      "text/plain": [
       "1"
      ]
     },
     "execution_count": 16,
     "metadata": {},
     "output_type": "execute_result"
    }
   ],
   "source": [
    "arreglo_p = np.linspace(0,2,3)\n",
    "valor_esperadop = 0\n",
    "for j in range(len(arreglo_p)):\n",
    "    proton = valor_esperadoy(h,j)\n",
    "    valor_esperadop += proton\n",
    "valor_esperadop"
   ]
  },
  {
   "cell_type": "code",
   "execution_count": 18,
   "metadata": {},
   "outputs": [
    {
     "data": {
      "text/latex": [
       "$\\displaystyle \\frac{9}{7}$"
      ],
      "text/plain": [
       "9/7"
      ]
     },
     "execution_count": 18,
     "metadata": {},
     "output_type": "execute_result"
    }
   ],
   "source": [
    "valor_esperadoep = 0\n",
    "for i in range(len(arreglo_e)):\n",
    "    for j in range(len(arreglo_p)):\n",
    "     elecproton = valor_esperadoxy(f,i,j)\n",
    "     valor_esperadoep += elecproton\n",
    "valor_esperadoep"
   ]
  },
  {
   "cell_type": "code",
   "execution_count": 20,
   "metadata": {},
   "outputs": [
    {
     "data": {
      "text/latex": [
       "$\\displaystyle - \\frac{3}{14}$"
      ],
      "text/plain": [
       "-3/14"
      ]
     },
     "execution_count": 20,
     "metadata": {},
     "output_type": "execute_result"
    }
   ],
   "source": [
    "covarianza = valor_esperadoep - valor_esperadoe * valor_esperadop\n",
    "covarianza"
   ]
  },
  {
   "cell_type": "code",
   "execution_count": 25,
   "metadata": {},
   "outputs": [
    {
     "data": {
      "text/latex": [
       "$\\displaystyle - \\frac{3}{14}$"
      ],
      "text/plain": [
       "-3/14"
      ]
     },
     "execution_count": 25,
     "metadata": {},
     "output_type": "execute_result"
    }
   ],
   "source": [
    "covarianza2 = 0\n",
    "for i in range(len(arreglo_e)):\n",
    "    for j in range(len(arreglo_p)):\n",
    "     valor_esperadoep = (i-valor_esperadoe)*(j-valor_esperadop)*f.subs({x:i,y:j})\n",
    "     covarianza2 += valor_esperadoep\n",
    "covarianza2"
   ]
  },
  {
   "cell_type": "code",
   "execution_count": 26,
   "metadata": {},
   "outputs": [
    {
     "name": "stdout",
     "output_type": "stream",
     "text": [
      "Las variables x e y no son independientes debido a que su covarianza es diferente de 0.\n"
     ]
    }
   ],
   "source": [
    "print(\"Las variables x e y no son independientes debido a que su covarianza es diferente de 0.\")"
   ]
  }
 ],
 "metadata": {
  "kernelspec": {
   "display_name": "Python 3 (ipykernel)",
   "language": "python",
   "name": "python3"
  },
  "language_info": {
   "codemirror_mode": {
    "name": "ipython",
    "version": 3
   },
   "file_extension": ".py",
   "mimetype": "text/x-python",
   "name": "python",
   "nbconvert_exporter": "python",
   "pygments_lexer": "ipython3",
   "version": "3.9.13"
  }
 },
 "nbformat": 4,
 "nbformat_minor": 2
}
