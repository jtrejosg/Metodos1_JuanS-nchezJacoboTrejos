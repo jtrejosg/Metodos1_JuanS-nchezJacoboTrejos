{
 "cells": [
  {
   "cell_type": "code",
   "execution_count": 1,
   "id": "6134e5ce",
   "metadata": {},
   "outputs": [],
   "source": [
    "import numpy as np"
   ]
  },
  {
   "cell_type": "code",
   "execution_count": 2,
   "id": "51bc3af4",
   "metadata": {},
   "outputs": [],
   "source": [
    "def combinatoria_con_repe(n,r):\n",
    "    return (np.math.factorial(n+r-1))/((np.math.factorial(r))*np.math.factorial(n-1))"
   ]
  },
  {
   "cell_type": "code",
   "execution_count": 3,
   "id": "2fa6f037",
   "metadata": {},
   "outputs": [
    {
     "data": {
      "text/plain": [
       "66.0"
      ]
     },
     "execution_count": 3,
     "metadata": {},
     "output_type": "execute_result"
    }
   ],
   "source": [
    "combinatoria_con_repe(3,10)"
   ]
  }
 ],
 "metadata": {
  "kernelspec": {
   "display_name": "Python 3 (ipykernel)",
   "language": "python",
   "name": "python3"
  },
  "language_info": {
   "codemirror_mode": {
    "name": "ipython",
    "version": 3
   },
   "file_extension": ".py",
   "mimetype": "text/x-python",
   "name": "python",
   "nbconvert_exporter": "python",
   "pygments_lexer": "ipython3",
   "version": "3.9.13"
  }
 },
 "nbformat": 4,
 "nbformat_minor": 5
}
